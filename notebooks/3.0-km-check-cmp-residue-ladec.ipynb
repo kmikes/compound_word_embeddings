{
 "cells": [
  {
   "cell_type": "code",
   "execution_count": 1,
   "id": "01195630",
   "metadata": {},
   "outputs": [],
   "source": [
    "import pandas as pd\n",
    "import numpy as np\n",
    "import matplotlib.pyplot as plt\n",
    "\n",
    "from scipy.spatial import distance\n",
    "from scipy import spatial\n",
    "\n",
    "# import torchtext"
   ]
  },
  {
   "cell_type": "code",
   "execution_count": 2,
   "id": "86025f52",
   "metadata": {},
   "outputs": [],
   "source": [
    "embeddings_dict = {}\n",
    "\n",
    "with open(\"../data/external/glove.6B.50d.txt\", 'r') as f:\n",
    "    for line in f:\n",
    "        values = line.split()\n",
    "        word = values[0]\n",
    "        vector = np.asarray(values[1:], \"float32\")\n",
    "        embeddings_dict[word] = vector"
   ]
  },
  {
   "cell_type": "code",
   "execution_count": 3,
   "id": "6989f297",
   "metadata": {},
   "outputs": [],
   "source": [
    "data = pd.read_csv('../data/processed/all_embeddings_forML.csv')"
   ]
  },
  {
   "cell_type": "code",
   "execution_count": 4,
   "id": "ff77e254",
   "metadata": {},
   "outputs": [],
   "source": [
    "def find_closest_embeddings(embedding):\n",
    "    return sorted(embeddings_dict.keys(), key=lambda word: spatial.distance.euclidean(embeddings_dict[word], embedding))"
   ]
  },
  {
   "cell_type": "code",
   "execution_count": 5,
   "id": "80641cfe",
   "metadata": {},
   "outputs": [
    {
     "data": {
      "text/plain": [
       "array([ 1.1074    ,  0.44753   ,  2.08042   , -0.961294  ,  0.9206194 ,\n",
       "       -0.14345798, -1.0381601 , -0.85764   , -0.53208   , -0.92098   ,\n",
       "       -0.52645   ,  0.55752   , -0.535697  , -0.513226  ,  1.685511  ,\n",
       "        0.56301   ,  0.00928   ,  0.91048   , -0.39317998, -1.230388  ,\n",
       "        0.65613   ,  1.026328  ,  2.17735   ,  1.33134   ,  0.30181003,\n",
       "       -3.2769299 ,  0.74326   , -0.48087   ,  0.89970994, -0.82445   ,\n",
       "        7.05174   ,  0.668944  , -0.665776  , -0.26253998, -0.3501683 ,\n",
       "        0.08858001, -0.89135003, -0.55489004,  1.2405341 , -0.05573598,\n",
       "        0.39427   ,  0.38880002,  1.1544399 ,  1.1628901 ,  0.29304802,\n",
       "        0.192651  , -0.567754  , -1.41194   , -0.63672066, -0.205957  ],\n",
       "      dtype=float32)"
      ]
     },
     "execution_count": 5,
     "metadata": {},
     "output_type": "execute_result"
    }
   ],
   "source": [
    "result = embeddings_dict['turn'] + embeddings_dict['about'] - embeddings_dict['turnabout']\n",
    "result"
   ]
  },
  {
   "cell_type": "code",
   "execution_count": 6,
   "id": "7135e566",
   "metadata": {},
   "outputs": [
    {
     "data": {
      "text/plain": [
       "c1_00    -0.28186\n",
       "c1_01     0.76122\n",
       "c1_02     0.31124\n",
       "c1_03   -0.056947\n",
       "c1_04    -0.16125\n",
       "c1_05    -0.84541\n",
       "c1_06     0.21271\n",
       "c1_07     -1.1618\n",
       "c1_08     0.66181\n",
       "c1_09      1.2302\n",
       "c1_10     0.78864\n",
       "c1_11     0.83112\n",
       "c1_12    -0.70775\n",
       "c1_13     0.22583\n",
       "c1_14     -0.7578\n",
       "c1_15       1.221\n",
       "c1_16     0.69907\n",
       "c1_17    -0.81823\n",
       "c1_18     0.19546\n",
       "c1_19      1.8109\n",
       "c1_20    -0.71717\n",
       "c1_21     0.87639\n",
       "c1_22     0.68515\n",
       "c1_23    -0.10325\n",
       "c1_24    -0.12523\n",
       "c1_25      0.1229\n",
       "c1_26    0.056091\n",
       "c1_27    -0.18191\n",
       "c1_28    0.036424\n",
       "c1_29     0.43651\n",
       "c1_30     -0.5549\n",
       "c1_31     0.35513\n",
       "c1_32     0.26945\n",
       "c1_33     0.58567\n",
       "c1_34      0.6719\n",
       "c1_35    -0.52472\n",
       "c1_36     0.59862\n",
       "c1_37    -0.47292\n",
       "c1_38     0.33516\n",
       "c1_39      1.8675\n",
       "c1_40    0.079179\n",
       "c1_41      1.2164\n",
       "c1_42    -0.23826\n",
       "c1_43     0.00516\n",
       "c1_44     0.44026\n",
       "c1_45    -0.63698\n",
       "c1_46    -0.24248\n",
       "c1_47    -0.38488\n",
       "c1_48     0.11777\n",
       "c1_49      0.2475\n",
       "Name: 0, dtype: object"
      ]
     },
     "execution_count": 6,
     "metadata": {},
     "output_type": "execute_result"
    }
   ],
   "source": [
    "data.iloc[0,4:54]"
   ]
  },
  {
   "cell_type": "code",
   "execution_count": 7,
   "id": "13865595",
   "metadata": {},
   "outputs": [],
   "source": [
    "residual_vectors = [ np.array(np.array(data.iloc[x, 4:54]) + np.array(data.iloc[x,54:104]) - np.array(data.iloc[x,104:154])) for x in range(len(data['cmp'])) ]"
   ]
  },
  {
   "cell_type": "code",
   "execution_count": 8,
   "id": "bfe030c3",
   "metadata": {},
   "outputs": [],
   "source": [
    "residual_dotprods = [ np.dot(array, array) for array in residual_vectors ]"
   ]
  },
  {
   "cell_type": "code",
   "execution_count": 9,
   "id": "35c87965",
   "metadata": {},
   "outputs": [
    {
     "data": {
      "text/plain": [
       "Text(0.5, 0, 'residual vectors')"
      ]
     },
     "execution_count": 9,
     "metadata": {},
     "output_type": "execute_result"
    },
    {
     "data": {
      "image/png": "[encoded data removed]",
      "text/plain": [
       "<Figure size 432x288 with 1 Axes>"
      ]
     },
     "metadata": {
      "needs_background": "light"
     },
     "output_type": "display_data"
    }
   ],
   "source": [
    "fig = plt.figure()\n",
    "\n",
    "ax = fig.add_subplot()\n",
    "\n",
    "ax.scatter( np.array( residual_dotprods ), ([x for x in range(len(residual_vectors))]) )\n",
    "\n",
    "ax.set_xlabel('residual vectors')"
   ]
  },
  {
   "cell_type": "markdown",
   "id": "fe7411c5",
   "metadata": {},
   "source": [
    "This examines the length of residual vectors which doesn't seem to be very valuable..."
   ]
  },
  {
   "cell_type": "code",
   "execution_count": null,
   "id": "3e150165",
   "metadata": {},
   "outputs": [],
   "source": []
  }
 ],
 "metadata": {
  "kernelspec": {
   "display_name": "Python 3 (ipykernel)",
   "language": "python",
   "name": "python3"
  },
  "language_info": {
   "codemirror_mode": {
    "name": "ipython",
    "version": 3
   },
   "file_extension": ".py",
   "mimetype": "text/x-python",
   "name": "python",
   "nbconvert_exporter": "python",
   "pygments_lexer": "ipython3",
   "version": "3.9.6"
  }
 },
 "nbformat": 4,
 "nbformat_minor": 5
}
