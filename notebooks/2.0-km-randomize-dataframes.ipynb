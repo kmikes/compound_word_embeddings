{
 "cells": [
  {
   "cell_type": "code",
   "execution_count": 14,
   "id": "9a5141c9",
   "metadata": {},
   "outputs": [],
   "source": [
    "import numpy as np\n",
    "import matplotlib.pyplot as plt\n",
    "import pandas as pd\n",
    "\n",
    "from scipy.spatial import distance\n",
    "from scipy import spatial"
   ]
  },
  {
   "cell_type": "code",
   "execution_count": 15,
   "id": "1b6d057c",
   "metadata": {},
   "outputs": [],
   "source": [
    "embeddings_dict = {}\n",
    "\n",
    "with open(\"../data/external/glove.6B.50d.txt\", 'r') as f:\n",
    "    for line in f:\n",
    "        values = line.split()\n",
    "        word = values[0]\n",
    "        vector = np.asarray(values[1:], \"float32\")\n",
    "        embeddings_dict[word] = vector"
   ]
  },
  {
   "cell_type": "code",
   "execution_count": 16,
   "id": "8746ce2d",
   "metadata": {},
   "outputs": [],
   "source": [
    "test = pd.read_csv('../data/processed/all_embeddings_forML.csv')"
   ]
  },
  {
   "cell_type": "code",
   "execution_count": 17,
   "id": "620042ef",
   "metadata": {},
   "outputs": [],
   "source": [
    "df = test.sample( frac=1, axis=0 ) # Randomize order of the rows in data"
   ]
  },
  {
   "cell_type": "code",
   "execution_count": 18,
   "id": "0895d12d",
   "metadata": {},
   "outputs": [
    {
     "data": {
      "text/plain": "      Unnamed: 0           cmp     c1       c2    c1_00     c1_01     c1_02  \\\n2166        3272  sheepherders  sheep  herders  0.39026 -1.135700 -0.476460   \n970         1437       goodbye   good      bye -0.35586  0.521300 -0.610700   \n3082        4629      trainman  train      man  0.94971  0.343280  0.845040   \n1704        2531       oarfish    oar     fish  0.24505 -0.417370  0.079426   \n2024        3025       hindgut   hind      gut  0.48022 -0.063936  0.449280   \n...          ...           ...    ...      ...      ...       ...       ...   \n3771        5577      bullpens   bull     pens  0.10650  0.020515 -0.355510   \n4707        6992      cockspur   cock     spur  0.52942 -0.434780 -0.844690   \n5004        7416     turntable   turn    table  0.45343 -0.220310  0.537040   \n4791        7117     chopstick   chop    stick -0.56476 -1.071300 -0.259170   \n5737        8681      overwork   over     work  0.12972  0.088073  0.243750   \n\n         c1_03    c1_04     c1_05  ...    cmp_40   cmp_41    cmp_42    cmp_43  \\\n2166 -1.018500  0.44893  1.449900  ... -0.494680 -0.59537 -0.132150  0.365270   \n970  -0.301310  0.94862 -0.315390  ...  0.288550 -0.38331 -0.740000 -0.473280   \n3082 -0.885190 -0.72078 -0.293090  ... -0.034643 -0.18589 -0.391750  0.030395   \n1704  0.266500 -0.90511  0.819100  ...  0.193290 -0.30964  0.020672  0.931420   \n2024 -0.744630  0.46351  1.412000  ... -0.108670 -0.55570 -0.014041  0.313250   \n...        ...      ...       ...  ...       ...      ...       ...       ...   \n3771 -0.330650  0.23404  0.390120  ... -0.213490 -0.31867 -1.076300  1.998400   \n4707 -0.388830 -0.34050  0.030870  ...  0.637230 -0.31843  0.217020 -0.218690   \n5004 -0.487350  0.34246  0.046052  ...  0.705320 -0.84398 -1.007100  0.911910   \n4791 -0.720200  0.52622 -0.144990  ...  0.342780 -0.38744 -0.533490  1.082200   \n5737  0.078102 -0.12783  0.278310  ... -1.009500  0.27768  0.302330  0.918550   \n\n        cmp_44    cmp_45    cmp_46    cmp_47    cmp_48    cmp_49  \n2166  0.013749 -0.396920  0.019935  0.281610  0.326870 -1.124100  \n970   0.559320 -0.120580 -0.098498 -0.844870 -0.210670  0.048563  \n3082 -0.223250 -0.862620  0.389430  0.229450 -0.511350 -0.016145  \n1704  1.130100 -0.541090 -0.136340 -0.058349 -0.093501 -0.500070  \n2024  0.397700  0.382170  1.150400 -0.578670 -0.573340 -0.602320  \n...        ...       ...       ...       ...       ...       ...  \n3771 -1.048200  0.185440 -0.504650  0.020682 -0.192400 -1.687400  \n4707  0.736140 -0.020058 -0.344710 -1.974200  1.320700 -1.812000  \n5004 -0.151600 -0.645980  1.010800  0.038252  0.234560 -0.812320  \n4791  0.728200 -0.527550  0.814750 -0.040756  0.357580 -0.678440  \n5737  0.780530 -0.275320  0.417430 -0.761420 -0.507940 -0.874420  \n\n[5902 rows x 154 columns]",
      "text/html": "<div>\n<style scoped>\n    .dataframe tbody tr th:only-of-type {\n        vertical-align: middle;\n    }\n\n    .dataframe tbody tr th {\n        vertical-align: top;\n    }\n\n    .dataframe thead th {\n        text-align: right;\n    }\n</style>\n<table border=\"1\" class=\"dataframe\">\n  <thead>\n    <tr style=\"text-align: right;\">\n      <th></th>\n      <th>Unnamed: 0</th>\n      <th>cmp</th>\n      <th>c1</th>\n      <th>c2</th>\n      <th>c1_00</th>\n      <th>c1_01</th>\n      <th>c1_02</th>\n      <th>c1_03</th>\n      <th>c1_04</th>\n      <th>c1_05</th>\n      <th>...</th>\n      <th>cmp_40</th>\n      <th>cmp_41</th>\n      <th>cmp_42</th>\n      <th>cmp_43</th>\n      <th>cmp_44</th>\n      <th>cmp_45</th>\n      <th>cmp_46</th>\n      <th>cmp_47</th>\n      <th>cmp_48</th>\n      <th>cmp_49</th>\n    </tr>\n  </thead>\n  <tbody>\n    <tr>\n      <th>2166</th>\n      <td>3272</td>\n      <td>sheepherders</td>\n      <td>sheep</td>\n      <td>herders</td>\n      <td>0.39026</td>\n      <td>-1.135700</td>\n      <td>-0.476460</td>\n      <td>-1.018500</td>\n      <td>0.44893</td>\n      <td>1.449900</td>\n      <td>...</td>\n      <td>-0.494680</td>\n      <td>-0.59537</td>\n      <td>-0.132150</td>\n      <td>0.365270</td>\n      <td>0.013749</td>\n      <td>-0.396920</td>\n      <td>0.019935</td>\n      <td>0.281610</td>\n      <td>0.326870</td>\n      <td>-1.124100</td>\n    </tr>\n    <tr>\n      <th>970</th>\n      <td>1437</td>\n      <td>goodbye</td>\n      <td>good</td>\n      <td>bye</td>\n      <td>-0.35586</td>\n      <td>0.521300</td>\n      <td>-0.610700</td>\n      <td>-0.301310</td>\n      <td>0.94862</td>\n      <td>-0.315390</td>\n      <td>...</td>\n      <td>0.288550</td>\n      <td>-0.38331</td>\n      <td>-0.740000</td>\n      <td>-0.473280</td>\n      <td>0.559320</td>\n      <td>-0.120580</td>\n      <td>-0.098498</td>\n      <td>-0.844870</td>\n      <td>-0.210670</td>\n      <td>0.048563</td>\n    </tr>\n    <tr>\n      <th>3082</th>\n      <td>4629</td>\n      <td>trainman</td>\n      <td>train</td>\n      <td>man</td>\n      <td>0.94971</td>\n      <td>0.343280</td>\n      <td>0.845040</td>\n      <td>-0.885190</td>\n      <td>-0.72078</td>\n      <td>-0.293090</td>\n      <td>...</td>\n      <td>-0.034643</td>\n      <td>-0.18589</td>\n      <td>-0.391750</td>\n      <td>0.030395</td>\n      <td>-0.223250</td>\n      <td>-0.862620</td>\n      <td>0.389430</td>\n      <td>0.229450</td>\n      <td>-0.511350</td>\n      <td>-0.016145</td>\n    </tr>\n    <tr>\n      <th>1704</th>\n      <td>2531</td>\n      <td>oarfish</td>\n      <td>oar</td>\n      <td>fish</td>\n      <td>0.24505</td>\n      <td>-0.417370</td>\n      <td>0.079426</td>\n      <td>0.266500</td>\n      <td>-0.90511</td>\n      <td>0.819100</td>\n      <td>...</td>\n      <td>0.193290</td>\n      <td>-0.30964</td>\n      <td>0.020672</td>\n      <td>0.931420</td>\n      <td>1.130100</td>\n      <td>-0.541090</td>\n      <td>-0.136340</td>\n      <td>-0.058349</td>\n      <td>-0.093501</td>\n      <td>-0.500070</td>\n    </tr>\n    <tr>\n      <th>2024</th>\n      <td>3025</td>\n      <td>hindgut</td>\n      <td>hind</td>\n      <td>gut</td>\n      <td>0.48022</td>\n      <td>-0.063936</td>\n      <td>0.449280</td>\n      <td>-0.744630</td>\n      <td>0.46351</td>\n      <td>1.412000</td>\n      <td>...</td>\n      <td>-0.108670</td>\n      <td>-0.55570</td>\n      <td>-0.014041</td>\n      <td>0.313250</td>\n      <td>0.397700</td>\n      <td>0.382170</td>\n      <td>1.150400</td>\n      <td>-0.578670</td>\n      <td>-0.573340</td>\n      <td>-0.602320</td>\n    </tr>\n    <tr>\n      <th>...</th>\n      <td>...</td>\n      <td>...</td>\n      <td>...</td>\n      <td>...</td>\n      <td>...</td>\n      <td>...</td>\n      <td>...</td>\n      <td>...</td>\n      <td>...</td>\n      <td>...</td>\n      <td>...</td>\n      <td>...</td>\n      <td>...</td>\n      <td>...</td>\n      <td>...</td>\n      <td>...</td>\n      <td>...</td>\n      <td>...</td>\n      <td>...</td>\n      <td>...</td>\n      <td>...</td>\n    </tr>\n    <tr>\n      <th>3771</th>\n      <td>5577</td>\n      <td>bullpens</td>\n      <td>bull</td>\n      <td>pens</td>\n      <td>0.10650</td>\n      <td>0.020515</td>\n      <td>-0.355510</td>\n      <td>-0.330650</td>\n      <td>0.23404</td>\n      <td>0.390120</td>\n      <td>...</td>\n      <td>-0.213490</td>\n      <td>-0.31867</td>\n      <td>-1.076300</td>\n      <td>1.998400</td>\n      <td>-1.048200</td>\n      <td>0.185440</td>\n      <td>-0.504650</td>\n      <td>0.020682</td>\n      <td>-0.192400</td>\n      <td>-1.687400</td>\n    </tr>\n    <tr>\n      <th>4707</th>\n      <td>6992</td>\n      <td>cockspur</td>\n      <td>cock</td>\n      <td>spur</td>\n      <td>0.52942</td>\n      <td>-0.434780</td>\n      <td>-0.844690</td>\n      <td>-0.388830</td>\n      <td>-0.34050</td>\n      <td>0.030870</td>\n      <td>...</td>\n      <td>0.637230</td>\n      <td>-0.31843</td>\n      <td>0.217020</td>\n      <td>-0.218690</td>\n      <td>0.736140</td>\n      <td>-0.020058</td>\n      <td>-0.344710</td>\n      <td>-1.974200</td>\n      <td>1.320700</td>\n      <td>-1.812000</td>\n    </tr>\n    <tr>\n      <th>5004</th>\n      <td>7416</td>\n      <td>turntable</td>\n      <td>turn</td>\n      <td>table</td>\n      <td>0.45343</td>\n      <td>-0.220310</td>\n      <td>0.537040</td>\n      <td>-0.487350</td>\n      <td>0.34246</td>\n      <td>0.046052</td>\n      <td>...</td>\n      <td>0.705320</td>\n      <td>-0.84398</td>\n      <td>-1.007100</td>\n      <td>0.911910</td>\n      <td>-0.151600</td>\n      <td>-0.645980</td>\n      <td>1.010800</td>\n      <td>0.038252</td>\n      <td>0.234560</td>\n      <td>-0.812320</td>\n    </tr>\n    <tr>\n      <th>4791</th>\n      <td>7117</td>\n      <td>chopstick</td>\n      <td>chop</td>\n      <td>stick</td>\n      <td>-0.56476</td>\n      <td>-1.071300</td>\n      <td>-0.259170</td>\n      <td>-0.720200</td>\n      <td>0.52622</td>\n      <td>-0.144990</td>\n      <td>...</td>\n      <td>0.342780</td>\n      <td>-0.38744</td>\n      <td>-0.533490</td>\n      <td>1.082200</td>\n      <td>0.728200</td>\n      <td>-0.527550</td>\n      <td>0.814750</td>\n      <td>-0.040756</td>\n      <td>0.357580</td>\n      <td>-0.678440</td>\n    </tr>\n    <tr>\n      <th>5737</th>\n      <td>8681</td>\n      <td>overwork</td>\n      <td>over</td>\n      <td>work</td>\n      <td>0.12972</td>\n      <td>0.088073</td>\n      <td>0.243750</td>\n      <td>0.078102</td>\n      <td>-0.12783</td>\n      <td>0.278310</td>\n      <td>...</td>\n      <td>-1.009500</td>\n      <td>0.27768</td>\n      <td>0.302330</td>\n      <td>0.918550</td>\n      <td>0.780530</td>\n      <td>-0.275320</td>\n      <td>0.417430</td>\n      <td>-0.761420</td>\n      <td>-0.507940</td>\n      <td>-0.874420</td>\n    </tr>\n  </tbody>\n</table>\n<p>5902 rows × 154 columns</p>\n</div>"
     },
     "execution_count": 18,
     "metadata": {},
     "output_type": "execute_result"
    }
   ],
   "source": [
    "df"
   ]
  },
  {
   "cell_type": "code",
   "execution_count": 19,
   "id": "3c137eb8",
   "metadata": {},
   "outputs": [],
   "source": [
    "testX = np.array( (df.iloc[int((0.9*(len(df['c1'])))):, 4:104]), dtype='float32'  )\n",
    "testY = np.array( (df.iloc[int((0.9*(len(df['c1'])))):, 104:154]), dtype='float32' )"
   ]
  },
  {
   "cell_type": "code",
   "execution_count": 20,
   "id": "347b7335",
   "metadata": {},
   "outputs": [],
   "source": [
    "def find_closest_embeddings(embedding):\n",
    "    return sorted(embeddings_dict.keys(), key=lambda word: spatial.distance.euclidean(embeddings_dict[word], embedding))"
   ]
  },
  {
   "cell_type": "code",
   "execution_count": 21,
   "id": "ba59c61b",
   "metadata": {},
   "outputs": [
    {
     "data": {
      "text/plain": "array([-0.38497 ,  0.80092 ,  0.064106, -0.28355 , -0.026759, -0.34532 ,\n       -0.64253 , -0.11729 , -0.33257 ,  0.55243 , -0.087813,  0.9035  ,\n        0.47102 ,  0.56657 ,  0.6985  , -0.35229 , -0.86542 ,  0.90573 ,\n        0.03576 , -0.071705, -0.12327 ,  0.54923 ,  0.47005 ,  0.35572 ,\n        1.2611  , -0.67581 , -0.94983 ,  0.68666 ,  0.3871  , -1.3492  ,\n        0.63512 ,  0.46416 , -0.48814 ,  0.83827 , -0.9246  , -0.33722 ,\n        0.53741 , -1.0616  , -0.081403, -0.67111 ,  0.30923 , -0.3923  ,\n       -0.55002 , -0.68827 ,  0.58049 , -0.11626 ,  0.013139, -0.57654 ,\n        0.048833,  0.67204 ], dtype=float32)"
     },
     "execution_count": 21,
     "metadata": {},
     "output_type": "execute_result"
    }
   ],
   "source": [
    "embeddings_dict['hello']"
   ]
  },
  {
   "cell_type": "code",
   "execution_count": 22,
   "id": "c997d25d",
   "metadata": {},
   "outputs": [
    {
     "data": {
      "text/plain": "['hello', 'goodbye', 'kiss', 'hey', 'wow']"
     },
     "execution_count": 22,
     "metadata": {},
     "output_type": "execute_result"
    }
   ],
   "source": [
    "find_closest_embeddings( embeddings_dict['hello'] )[:5]"
   ]
  },
  {
   "cell_type": "code",
   "execution_count": 23,
   "id": "3df3845c",
   "metadata": {},
   "outputs": [
    {
     "data": {
      "text/plain": "array([ 1.3046  ,  0.30738 ,  0.88093 , -0.69854 , -0.29451 ,  0.70885 ,\n       -0.59875 ,  0.34365 ,  0.71256 , -0.25754 , -0.77566 ,  0.077712,\n        1.2537  , -0.81204 , -0.59071 , -0.49693 , -0.3282  , -0.55248 ,\n        2.0301  ,  0.45375 ,  0.5674  , -0.92993 ,  0.062696,  0.39551 ,\n        0.17897 ,  1.0123  , -1.3514  ,  0.21844 ,  0.51097 ,  0.24456 ,\n        0.24036 , -0.10396 ,  0.52491 ,  0.93753 , -0.05665 ,  0.49859 ,\n       -1.5988  ,  0.3201  ,  1.1744  , -0.99344 ,  0.74361 , -0.77322 ,\n       -0.049993,  0.078419, -1.3758  , -1.4558  ,  0.85141 ,  0.77725 ,\n        1.2505  , -0.42258 ], dtype=float32)"
     },
     "execution_count": 23,
     "metadata": {},
     "output_type": "execute_result"
    }
   ],
   "source": [
    "testY[0]"
   ]
  },
  {
   "cell_type": "code",
   "execution_count": 24,
   "id": "1014c106",
   "metadata": {},
   "outputs": [
    {
     "data": {
      "text/plain": "['passbook', 'overdrawing', 'phonebook', 'receivable', 'anguillara']"
     },
     "execution_count": 24,
     "metadata": {},
     "output_type": "execute_result"
    }
   ],
   "source": [
    "find_closest_embeddings( testY[0] )[:5]"
   ]
  },
  {
   "cell_type": "code",
   "execution_count": 25,
   "id": "3f5f5664",
   "metadata": {},
   "outputs": [
    {
     "data": {
      "text/plain": "5311"
     },
     "execution_count": 25,
     "metadata": {},
     "output_type": "execute_result"
    }
   ],
   "source": [
    "int((0.9*(len(df['c1']))))"
   ]
  },
  {
   "cell_type": "code",
   "execution_count": 26,
   "id": "59254653",
   "metadata": {},
   "outputs": [
    {
     "data": {
      "text/plain": "     Unnamed: 0       cmp    c1    c2    c1_00   c1_01    c1_02    c1_03  \\\n696        1036  passbook  pass  book -0.47572 -0.1523  0.78962 -0.76898   \n\n        c1_04     c1_05  ...   cmp_40   cmp_41    cmp_42    cmp_43  cmp_44  \\\n696 -0.090863  0.025666  ...  0.74361 -0.77322 -0.049993  0.078419 -1.3758   \n\n     cmp_45   cmp_46   cmp_47  cmp_48   cmp_49  \n696 -1.4558  0.85141  0.77725  1.2505 -0.42258  \n\n[1 rows x 154 columns]",
      "text/html": "<div>\n<style scoped>\n    .dataframe tbody tr th:only-of-type {\n        vertical-align: middle;\n    }\n\n    .dataframe tbody tr th {\n        vertical-align: top;\n    }\n\n    .dataframe thead th {\n        text-align: right;\n    }\n</style>\n<table border=\"1\" class=\"dataframe\">\n  <thead>\n    <tr style=\"text-align: right;\">\n      <th></th>\n      <th>Unnamed: 0</th>\n      <th>cmp</th>\n      <th>c1</th>\n      <th>c2</th>\n      <th>c1_00</th>\n      <th>c1_01</th>\n      <th>c1_02</th>\n      <th>c1_03</th>\n      <th>c1_04</th>\n      <th>c1_05</th>\n      <th>...</th>\n      <th>cmp_40</th>\n      <th>cmp_41</th>\n      <th>cmp_42</th>\n      <th>cmp_43</th>\n      <th>cmp_44</th>\n      <th>cmp_45</th>\n      <th>cmp_46</th>\n      <th>cmp_47</th>\n      <th>cmp_48</th>\n      <th>cmp_49</th>\n    </tr>\n  </thead>\n  <tbody>\n    <tr>\n      <th>696</th>\n      <td>1036</td>\n      <td>passbook</td>\n      <td>pass</td>\n      <td>book</td>\n      <td>-0.47572</td>\n      <td>-0.1523</td>\n      <td>0.78962</td>\n      <td>-0.76898</td>\n      <td>-0.090863</td>\n      <td>0.025666</td>\n      <td>...</td>\n      <td>0.74361</td>\n      <td>-0.77322</td>\n      <td>-0.049993</td>\n      <td>0.078419</td>\n      <td>-1.3758</td>\n      <td>-1.4558</td>\n      <td>0.85141</td>\n      <td>0.77725</td>\n      <td>1.2505</td>\n      <td>-0.42258</td>\n    </tr>\n  </tbody>\n</table>\n<p>1 rows × 154 columns</p>\n</div>"
     },
     "execution_count": 26,
     "metadata": {},
     "output_type": "execute_result"
    }
   ],
   "source": [
    "df.iloc[ 5311:5312 ]"
   ]
  },
  {
   "cell_type": "code",
   "execution_count": 26,
   "id": "3440de7d",
   "metadata": {},
   "outputs": [],
   "source": []
  }
 ],
 "metadata": {
  "kernelspec": {
   "display_name": "Python 3 (ipykernel)",
   "language": "python",
   "name": "python3"
  },
  "language_info": {
   "codemirror_mode": {
    "name": "ipython",
    "version": 3
   },
   "file_extension": ".py",
   "mimetype": "text/x-python",
   "name": "python",
   "nbconvert_exporter": "python",
   "pygments_lexer": "ipython3",
   "version": "3.9.6"
  }
 },
 "nbformat": 4,
 "nbformat_minor": 5
}