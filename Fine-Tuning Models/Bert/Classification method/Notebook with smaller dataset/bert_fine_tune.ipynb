{
  "metadata": {
    "kernelspec": {
      "language": "python",
      "display_name": "Python 3",
      "name": "python3"
    },
    "language_info": {
      "name": "python",
      "version": "3.7.12",
      "mimetype": "text/x-python",
      "codemirror_mode": {
        "name": "ipython",
        "version": 3
      },
      "pygments_lexer": "ipython3",
      "nbconvert_exporter": "python",
      "file_extension": ".py"
    },
    "colab": {
      "name": "bert-fine-tune.ipynb",
      "provenance": []
    }
  },
  "nbformat_minor": 0,
  "nbformat": 4,
  "cells": [
    {
      "cell_type": "code",
      "source": [
        "!pip install -q -U \"tensorflow-text==2.8.*\""
      ],
      "metadata": {
        "id": "yic2y7_o-BCC",
        "execution": {
          "iopub.status.busy": "2022-05-30T14:41:11.794661Z",
          "iopub.execute_input": "2022-05-30T14:41:11.795101Z",
          "iopub.status.idle": "2022-05-30T14:42:34.053324Z",
          "shell.execute_reply.started": "2022-05-30T14:41:11.795066Z",
          "shell.execute_reply": "2022-05-30T14:42:34.051765Z"
        },
        "trusted": true
      },
      "execution_count": null,
      "outputs": []
    },
    {
      "cell_type": "code",
      "source": [
        "!pip install -q tf-models-official==2.4.0"
      ],
      "metadata": {
        "id": "NvNr2svBM-p3",
        "execution": {
          "iopub.status.busy": "2022-05-30T14:42:34.056070Z",
          "iopub.execute_input": "2022-05-30T14:42:34.056760Z",
          "iopub.status.idle": "2022-05-30T14:43:29.916980Z",
          "shell.execute_reply.started": "2022-05-30T14:42:34.056705Z",
          "shell.execute_reply": "2022-05-30T14:43:29.915958Z"
        },
        "trusted": true
      },
      "execution_count": null,
      "outputs": []
    },
    {
      "cell_type": "code",
      "source": [
        "import os\n",
        "\n",
        "import numpy as np\n",
        "import matplotlib.pyplot as plt\n",
        "\n",
        "import tensorflow as tf\n",
        "\n",
        "import tensorflow_hub as hub\n",
        "import tensorflow_datasets as tfds\n",
        "tfds.disable_progress_bar()\n",
        "\n",
        "from official.modeling import tf_utils\n",
        "from official import nlp\n",
        "from official.nlp import bert\n",
        "\n",
        "# Load the required submodules\n",
        "import official.nlp.optimization\n",
        "import official.nlp.bert.bert_models\n",
        "import official.nlp.bert.configs\n",
        "import official.nlp.bert.run_classifier\n",
        "import official.nlp.bert.tokenization\n",
        "import official.nlp.data.classifier_data_lib\n",
        "import official.nlp.modeling.losses\n",
        "import official.nlp.modeling.models\n",
        "import official.nlp.modeling.networks\n"
      ],
      "metadata": {
        "id": "lXsXev5MNr20",
        "execution": {
          "iopub.status.busy": "2022-05-30T14:43:29.918748Z",
          "iopub.execute_input": "2022-05-30T14:43:29.919224Z",
          "iopub.status.idle": "2022-05-30T14:43:36.542931Z",
          "shell.execute_reply.started": "2022-05-30T14:43:29.919177Z",
          "shell.execute_reply": "2022-05-30T14:43:36.542201Z"
        },
        "trusted": true
      },
      "execution_count": null,
      "outputs": []
    },
    {
      "cell_type": "code",
      "source": [
        "gs_folder_bert = \"gs://cloud-tpu-checkpoints/bert/v3/uncased_L-12_H-768_A-12\"\n",
        "tf.io.gfile.listdir(gs_folder_bert)"
      ],
      "metadata": {
        "id": "vzRHOLciR8eq",
        "outputId": "4238939b-02fc-484a-a76a-43df4790052f",
        "execution": {
          "iopub.status.busy": "2022-05-30T14:43:36.545694Z",
          "iopub.execute_input": "2022-05-30T14:43:36.547048Z",
          "iopub.status.idle": "2022-05-30T14:43:36.865498Z",
          "shell.execute_reply.started": "2022-05-30T14:43:36.546978Z",
          "shell.execute_reply": "2022-05-30T14:43:36.864649Z"
        },
        "trusted": true,
        "colab": {
          "base_uri": "https://localhost:8080/"
        }
      },
      "execution_count": null,
      "outputs": [
        {
          "output_type": "execute_result",
          "data": {
            "text/plain": [
              "['bert_config.json',\n",
              " 'bert_model.ckpt.data-00000-of-00001',\n",
              " 'bert_model.ckpt.index',\n",
              " 'vocab.txt']"
            ]
          },
          "metadata": {},
          "execution_count": 26
        }
      ]
    },
    {
      "cell_type": "code",
      "source": [
        "hub_url_bert = \"https://tfhub.dev/tensorflow/bert_en_uncased_L-12_H-768_A-12/3\""
      ],
      "metadata": {
        "id": "e0dAkUttJAzj",
        "execution": {
          "iopub.status.busy": "2022-05-30T14:43:36.866752Z",
          "iopub.execute_input": "2022-05-30T14:43:36.867070Z",
          "iopub.status.idle": "2022-05-30T14:43:36.870861Z",
          "shell.execute_reply.started": "2022-05-30T14:43:36.867044Z",
          "shell.execute_reply": "2022-05-30T14:43:36.869875Z"
        },
        "trusted": true
      },
      "execution_count": null,
      "outputs": []
    },
    {
      "cell_type": "code",
      "source": [
        "tokenizer = bert.tokenization.FullTokenizer(\n",
        "    vocab_file=os.path.join(gs_folder_bert, \"vocab.txt\"),\n",
        "     do_lower_case=True)\n",
        "\n",
        "print(\"Vocab size:\", len(tokenizer.vocab))"
      ],
      "metadata": {
        "id": "idxyhmrCQcw5",
        "outputId": "c6102cc5-2aee-413d-ef51-bdcd052a3f8d",
        "execution": {
          "iopub.status.busy": "2022-05-30T16:16:22.875113Z",
          "iopub.execute_input": "2022-05-30T16:16:22.875623Z",
          "iopub.status.idle": "2022-05-30T16:16:23.148562Z",
          "shell.execute_reply.started": "2022-05-30T16:16:22.875583Z",
          "shell.execute_reply": "2022-05-30T16:16:23.147220Z"
        },
        "trusted": true,
        "colab": {
          "base_uri": "https://localhost:8080/"
        }
      },
      "execution_count": null,
      "outputs": [
        {
          "output_type": "stream",
          "name": "stdout",
          "text": [
            "Vocab size: 30522\n"
          ]
        }
      ]
    },
    {
      "cell_type": "code",
      "source": [
        "from google.colab import drive\n",
        "drive.flush_and_unmount()\n",
        "drive.mount('/content/drive')"
      ],
      "metadata": {
        "colab": {
          "base_uri": "https://localhost:8080/"
        },
        "id": "v8sWwgFNbIIk",
        "outputId": "544e6ec2-9aaa-42ca-8728-296556121497"
      },
      "execution_count": null,
      "outputs": [
        {
          "output_type": "stream",
          "name": "stdout",
          "text": [
            "Mounted at /content/drive\n"
          ]
        }
      ]
    },
    {
      "cell_type": "code",
      "source": [
        "import pandas as pd\n",
        "ladec = pd.read_csv('/content/drive/MyDrive/ladec.csv')\n",
        "subset = ladec[['c1', 'c2', 'stim', 'correctParse']]\n",
        "correct = subset[subset[\"correctParse\"] == 'yes']\n",
        "c1, c2, cmp = ladec['c1'].to_list(), ladec['c2'].to_list(), ladec['stim'].to_list()"
      ],
      "metadata": {
        "execution": {
          "iopub.status.busy": "2022-05-30T15:15:49.249450Z",
          "iopub.execute_input": "2022-05-30T15:15:49.249940Z",
          "iopub.status.idle": "2022-05-30T15:15:49.570742Z",
          "shell.execute_reply.started": "2022-05-30T15:15:49.249907Z",
          "shell.execute_reply": "2022-05-30T15:15:49.569569Z"
        },
        "trusted": true,
        "id": "DsOa1IOzYm67"
      },
      "execution_count": null,
      "outputs": []
    },
    {
      "cell_type": "code",
      "source": [
        "kept_words = []\n",
        "for w1, w2, wcmp in zip(c1, c2, cmp):\n",
        "    if len(tokenizer.tokenize(w1)) == 1 \\\n",
        "        and len(tokenizer.tokenize(w2)) == 1 \\\n",
        "        and len(tokenizer.tokenize(wcmp)) == 1:\n",
        "            kept_words.append((w1, w2, wcmp))"
      ],
      "metadata": {
        "execution": {
          "iopub.status.busy": "2022-05-30T16:16:31.269967Z",
          "iopub.execute_input": "2022-05-30T16:16:31.270613Z",
          "iopub.status.idle": "2022-05-30T16:16:32.105334Z",
          "shell.execute_reply.started": "2022-05-30T16:16:31.270577Z",
          "shell.execute_reply": "2022-05-30T16:16:32.103851Z"
        },
        "trusted": true,
        "id": "mi2Qa6rFYm68"
      },
      "execution_count": null,
      "outputs": []
    },
    {
      "cell_type": "code",
      "source": [
        "glue_dict = {\n",
        "    \"training\": {\n",
        "        \"sentence1\": [w[0] for w in kept_words[:500]],\n",
        "        \"sentence2\": [w[1] for w in kept_words[:500]],\n",
        "        \"compounds\": [w[2] for w in kept_words[:500]],\n",
        "        \"label\":      tf.convert_to_tensor([i for i in range(500)])\n",
        "    },\n",
        "    \"validation\": {\n",
        "        \"sentence1\": [w[0] for w in kept_words[500:]],\n",
        "        \"sentence2\": [w[1] for w in kept_words[500:]],\n",
        "        \"compounds\": [w[2] for w in kept_words[500:]],\n",
        "        \"label\":      tf.convert_to_tensor([i for i in range(500, len(kept_words))])\n",
        "    }\n",
        "}\n",
        "glue_dict[\"training\"][\"compounds\"]"
      ],
      "metadata": {
        "execution": {
          "iopub.status.busy": "2022-05-30T16:38:06.309343Z",
          "iopub.execute_input": "2022-05-30T16:38:06.309824Z",
          "iopub.status.idle": "2022-05-30T16:38:06.322053Z",
          "shell.execute_reply.started": "2022-05-30T16:38:06.309791Z",
          "shell.execute_reply": "2022-05-30T16:38:06.320711Z"
        },
        "trusted": true,
        "id": "ETSkvZfpYm68",
        "colab": {
          "base_uri": "https://localhost:8080/"
        },
        "outputId": "91aefad5-25d1-4e7b-cbbc-1cfb1956a85c"
      },
      "execution_count": null,
      "outputs": [
        {
          "output_type": "execute_result",
          "data": {
            "text/plain": [
              "['roundabout',\n",
              " 'headache',\n",
              " 'overall',\n",
              " 'firearm',\n",
              " 'firearms',\n",
              " 'breakaway',\n",
              " 'runaway',\n",
              " 'paperback',\n",
              " 'feedback',\n",
              " 'fullback',\n",
              " 'flashback',\n",
              " 'quarterback',\n",
              " 'horseback',\n",
              " 'cornerback',\n",
              " 'playback',\n",
              " 'flashbacks',\n",
              " 'baseball',\n",
              " 'basketball',\n",
              " 'handball',\n",
              " 'football',\n",
              " 'netball',\n",
              " 'volleyball',\n",
              " 'softball',\n",
              " 'waistband',\n",
              " 'database',\n",
              " 'wheelbase',\n",
              " 'databases',\n",
              " 'heartbeat',\n",
              " 'doorbell',\n",
              " 'strawberry',\n",
              " 'blackberry',\n",
              " 'childbirth',\n",
              " 'cupboard',\n",
              " 'billboard',\n",
              " 'keyboard',\n",
              " 'dashboard',\n",
              " 'cardboard',\n",
              " 'starboard',\n",
              " 'keyboards',\n",
              " 'lifeboat',\n",
              " 'steamboat',\n",
              " 'somebody',\n",
              " 'backbone',\n",
              " 'collarbone',\n",
              " 'cheekbones',\n",
              " 'yearbook',\n",
              " 'textbook',\n",
              " 'handbook',\n",
              " 'notebook',\n",
              " 'textbooks',\n",
              " 'newborn',\n",
              " 'rainbow',\n",
              " 'crossbow',\n",
              " 'gearbox',\n",
              " 'cowboy',\n",
              " 'playboy',\n",
              " 'cowboys',\n",
              " 'heartbreak',\n",
              " 'groundbreaking',\n",
              " 'thoroughbred',\n",
              " 'eyebrow',\n",
              " 'eyebrows',\n",
              " 'shipbuilding',\n",
              " 'airbus',\n",
              " 'blockbuster',\n",
              " 'goodbye',\n",
              " 'pancakes',\n",
              " 'sugarcane',\n",
              " 'landscape',\n",
              " 'streetcar',\n",
              " 'healthcare',\n",
              " 'briefcase',\n",
              " 'showcase',\n",
              " 'suitcase',\n",
              " 'staircase',\n",
              " 'showcases',\n",
              " 'broadcast',\n",
              " 'newscast',\n",
              " 'broadcasting',\n",
              " 'newscasts',\n",
              " 'broadcasts',\n",
              " 'wildcats',\n",
              " 'armchair',\n",
              " 'wheelchair',\n",
              " 'grandchildren',\n",
              " 'nightclub',\n",
              " 'stagecoach',\n",
              " 'peacock',\n",
              " 'homecoming',\n",
              " 'popcorn',\n",
              " 'racecourse',\n",
              " 'hardcover',\n",
              " 'aircraft',\n",
              " 'witchcraft',\n",
              " 'spacecraft',\n",
              " 'handcuffs',\n",
              " 'motorcycle',\n",
              " 'motorcycles',\n",
              " 'granddaughter',\n",
              " 'midday',\n",
              " 'weekday',\n",
              " 'birthday',\n",
              " 'weekdays',\n",
              " 'reindeer',\n",
              " 'bulldog',\n",
              " 'bulldogs',\n",
              " 'touchdown',\n",
              " 'countdown',\n",
              " 'showdown',\n",
              " 'breakdown',\n",
              " 'touchdowns',\n",
              " 'backdrop',\n",
              " 'viaduct',\n",
              " 'northeast',\n",
              " 'southeast',\n",
              " 'backseat',\n",
              " 'weekend',\n",
              " 'weekends',\n",
              " 'nightfall',\n",
              " 'waterfall',\n",
              " 'snowfall',\n",
              " 'rainfall',\n",
              " 'landfall',\n",
              " 'downfall',\n",
              " 'waterfalls',\n",
              " 'warfare',\n",
              " 'breakfast',\n",
              " 'godfather',\n",
              " 'grandfather',\n",
              " 'midfield',\n",
              " 'airfield',\n",
              " 'battlefield',\n",
              " 'airfields',\n",
              " 'firefighters',\n",
              " 'landfill',\n",
              " 'quarterfinal',\n",
              " 'quarterfinals',\n",
              " 'spitfire',\n",
              " 'gunfire',\n",
              " 'catfish',\n",
              " 'butterflies',\n",
              " 'butterfly',\n",
              " 'seafood',\n",
              " 'workforce',\n",
              " 'rainforest',\n",
              " 'pitchfork',\n",
              " 'girlfriend',\n",
              " 'boyfriend',\n",
              " 'girlfriends',\n",
              " 'waterfront',\n",
              " 'thanksgiving',\n",
              " 'sunglasses',\n",
              " 'undergraduate',\n",
              " 'bluegrass',\n",
              " 'evergreen',\n",
              " 'playground',\n",
              " 'campground',\n",
              " 'underground',\n",
              " 'background',\n",
              " 'backgrounds',\n",
              " 'bodyguard',\n",
              " 'safeguard',\n",
              " 'vanguard',\n",
              " 'bodyguards',\n",
              " 'shotgun',\n",
              " 'handgun',\n",
              " 'overhaul',\n",
              " 'forehead',\n",
              " 'overhead',\n",
              " 'redhead',\n",
              " 'whitehead',\n",
              " 'sweetheart',\n",
              " 'nowhere',\n",
              " 'downhill',\n",
              " 'foothills',\n",
              " 'warship',\n",
              " 'spaceship',\n",
              " 'battleship',\n",
              " 'airship',\n",
              " 'flagship',\n",
              " 'battleships',\n",
              " 'warships',\n",
              " 'bullshit',\n",
              " 'stronghold',\n",
              " 'household',\n",
              " 'householder',\n",
              " 'shareholder',\n",
              " 'shareholders',\n",
              " 'stakeholders',\n",
              " 'households',\n",
              " 'asshole',\n",
              " 'workshop',\n",
              " 'racehorse',\n",
              " 'gunshot',\n",
              " 'greyhound',\n",
              " 'clubhouse',\n",
              " 'warehouse',\n",
              " 'greenhouse',\n",
              " 'playhouse',\n",
              " 'lighthouse',\n",
              " 'courthouse',\n",
              " 'farmhouse',\n",
              " 'powerhouse',\n",
              " 'schoolhouse',\n",
              " 'warehouses',\n",
              " 'housekeeper',\n",
              " 'goalkeeper',\n",
              " 'peacekeeping',\n",
              " 'sidekick',\n",
              " 'mankind',\n",
              " 'necklace',\n",
              " 'freelance',\n",
              " 'midland',\n",
              " 'heartland',\n",
              " 'highland',\n",
              " 'woodland',\n",
              " 'wetland',\n",
              " 'wonderland',\n",
              " 'homeland',\n",
              " 'grassland',\n",
              " 'mainland',\n",
              " 'farmland',\n",
              " 'lowland',\n",
              " 'southland',\n",
              " 'woodlands',\n",
              " 'lowlands',\n",
              " 'grasslands',\n",
              " 'highlands',\n",
              " 'midlands',\n",
              " 'wetlands',\n",
              " 'overlap',\n",
              " 'backlash',\n",
              " 'eyelashes',\n",
              " 'wavelength',\n",
              " 'wavelengths',\n",
              " 'newsletter',\n",
              " 'eyelids',\n",
              " 'wildlife',\n",
              " 'afterlife',\n",
              " 'airlift',\n",
              " 'weightlifting',\n",
              " 'highlight',\n",
              " 'flashlight',\n",
              " 'daylight',\n",
              " 'sunlight',\n",
              " 'moonlight',\n",
              " 'spotlight',\n",
              " 'highlighting',\n",
              " 'highlights',\n",
              " 'headlights',\n",
              " 'airline',\n",
              " 'deadline',\n",
              " 'shoreline',\n",
              " 'baseline',\n",
              " 'pipeline',\n",
              " 'headline',\n",
              " 'coastline',\n",
              " 'timeline',\n",
              " 'storyline',\n",
              " 'skyline',\n",
              " 'guidelines',\n",
              " 'headlines',\n",
              " 'airlines',\n",
              " 'gunslinger',\n",
              " 'payload',\n",
              " 'overlook',\n",
              " 'landlord',\n",
              " 'warlord',\n",
              " 'folklore',\n",
              " 'blackmail',\n",
              " 'filmmaker',\n",
              " 'filmmakers',\n",
              " 'batsman',\n",
              " 'salesman',\n",
              " 'lineman',\n",
              " 'craftsman',\n",
              " 'policeman',\n",
              " 'gentleman',\n",
              " 'chairman',\n",
              " 'letterman',\n",
              " 'sportsman',\n",
              " 'batman',\n",
              " 'freeman',\n",
              " 'fisherman',\n",
              " 'clergyman',\n",
              " 'statesman',\n",
              " 'freshman',\n",
              " 'bowman',\n",
              " 'nobleman',\n",
              " 'madman',\n",
              " 'businessman',\n",
              " 'congressman',\n",
              " 'seaman',\n",
              " 'nightmare',\n",
              " 'trademark',\n",
              " 'landmark',\n",
              " 'hallmark',\n",
              " 'landmarks',\n",
              " 'quartermaster',\n",
              " 'grandmaster',\n",
              " 'postmaster',\n",
              " 'headmaster',\n",
              " 'roommate',\n",
              " 'classmate',\n",
              " 'teammate',\n",
              " 'teammates',\n",
              " 'classmates',\n",
              " 'aftermath',\n",
              " 'fishermen',\n",
              " 'gentlemen',\n",
              " 'craftsmen',\n",
              " 'freshmen',\n",
              " 'servicemen',\n",
              " 'airmen',\n",
              " 'seamen',\n",
              " 'businessmen',\n",
              " 'gunmen',\n",
              " 'policemen',\n",
              " 'horsemen',\n",
              " 'windmill',\n",
              " 'sawmill',\n",
              " 'honeymoon',\n",
              " 'grandmother',\n",
              " 'stepmother',\n",
              " 'fingernails',\n",
              " 'nickname',\n",
              " 'ethernet',\n",
              " 'midnight',\n",
              " 'afternoon',\n",
              " 'keynote',\n",
              " 'chestnut',\n",
              " 'coconut',\n",
              " 'peanut',\n",
              " 'peanuts',\n",
              " 'playoff',\n",
              " 'runoff',\n",
              " 'takeoff',\n",
              " 'kickoff',\n",
              " 'playoffs',\n",
              " 'someone',\n",
              " 'layout',\n",
              " 'breakout',\n",
              " 'workout',\n",
              " 'turnout',\n",
              " 'knockout',\n",
              " 'blackout',\n",
              " 'fallout',\n",
              " 'lookout',\n",
              " 'shootout',\n",
              " 'hideout',\n",
              " 'strikeouts',\n",
              " 'walkover',\n",
              " 'crossover',\n",
              " 'turnover',\n",
              " 'takeover',\n",
              " 'landowner',\n",
              " 'landowners',\n",
              " 'airspace',\n",
              " 'backpack',\n",
              " 'wingspan',\n",
              " 'newspaper',\n",
              " 'newspapers',\n",
              " 'grandparents',\n",
              " 'townspeople',\n",
              " 'chairperson',\n",
              " 'masterpiece',\n",
              " 'turnpike',\n",
              " 'overlapping',\n",
              " 'kidnapping',\n",
              " 'cockpit',\n",
              " 'birthplace',\n",
              " 'marketplace',\n",
              " 'commonplace',\n",
              " 'fireplace',\n",
              " 'workplace',\n",
              " 'airplane',\n",
              " 'airplanes',\n",
              " 'screenplay',\n",
              " 'checkpoint',\n",
              " 'viewpoint',\n",
              " 'airport',\n",
              " 'airports',\n",
              " 'gunpowder',\n",
              " 'horsepower',\n",
              " 'manpower',\n",
              " 'footprint',\n",
              " 'footprints',\n",
              " 'fingerprints',\n",
              " 'earthquake',\n",
              " 'headquarters',\n",
              " 'grandparents',\n",
              " 'copyright',\n",
              " 'earrings',\n",
              " 'sunrise',\n",
              " 'railroad',\n",
              " 'crossroads',\n",
              " 'railroads',\n",
              " 'bedrock',\n",
              " 'payroll',\n",
              " 'bedroom',\n",
              " 'classroom',\n",
              " 'ballroom',\n",
              " 'bathroom',\n",
              " 'restroom',\n",
              " 'courtroom',\n",
              " 'classrooms',\n",
              " 'bedrooms',\n",
              " 'bathrooms',\n",
              " 'overrun',\n",
              " 'forerunner',\n",
              " 'namesake',\n",
              " 'wholesale',\n",
              " 'backseat',\n",
              " 'bestseller',\n",
              " 'offset',\n",
              " 'sunset',\n",
              " 'watershed',\n",
              " 'windshield',\n",
              " 'makeshift',\n",
              " 'sunshine',\n",
              " 'flagship',\n",
              " 'battleship',\n",
              " 'spaceship',\n",
              " 'warship',\n",
              " 'steamship',\n",
              " 'airship',\n",
              " 'battleships',\n",
              " 'warships',\n",
              " 'sweatshirt',\n",
              " 'bullshit',\n",
              " 'horseshoe',\n",
              " 'workshop',\n",
              " 'workshops',\n",
              " 'gunshot',\n",
              " 'lakeside',\n",
              " 'underside',\n",
              " 'seaside',\n",
              " 'countryside',\n",
              " 'riverside',\n",
              " 'backside',\n",
              " 'hillside',\n",
              " 'bedside',\n",
              " 'roadside',\n",
              " 'oversight',\n",
              " 'website',\n",
              " 'websites',\n",
              " 'outskirts',\n",
              " 'landslide',\n",
              " 'goldsmith',\n",
              " 'blacksmith',\n",
              " 'grandson',\n",
              " 'airspace',\n",
              " 'lifespan',\n",
              " 'wingspan',\n",
              " 'offspring',\n",
              " 'hotspur',\n",
              " 'backstage',\n",
              " 'understanding',\n",
              " 'superstar',\n",
              " 'doorstep',\n",
              " 'footsteps',\n",
              " 'lipstick',\n",
              " 'livestock',\n",
              " 'sandstone',\n",
              " 'limestone',\n",
              " 'tombstone',\n",
              " 'milestone',\n",
              " 'keystone',\n",
              " 'cornerstone',\n",
              " 'shortstop',\n",
              " 'bookstore',\n",
              " 'mainstream',\n",
              " 'breaststroke',\n",
              " 'backstroke',\n",
              " 'lifestyle',\n",
              " 'freestyle',\n",
              " 'lawsuit',\n",
              " 'lawsuits',\n",
              " 'midsummer',\n",
              " 'password',\n",
              " 'timetable',\n",
              " 'cocktail',\n",
              " 'ponytail',\n",
              " 'undertaking',\n",
              " 'goaltender',\n",
              " 'bartender',\n",
              " 'breakthrough',\n",
              " 'overthrow',\n",
              " 'lipstick',\n",
              " 'overtime',\n",
              " 'lifetime',\n",
              " 'nighttime',\n",
              " 'showtime',\n",
              " 'meantime',\n",
              " 'halftime',\n",
              " 'daytime',\n",
              " 'wartime',\n",
              " 'fingertips',\n",
              " 'sandstone',\n",
              " 'milestone']"
            ]
          },
          "metadata": {},
          "execution_count": 61
        }
      ]
    },
    {
      "cell_type": "code",
      "source": [
        "def encode_sentence(s, tokenizer):\n",
        "   tokens = list(tokenizer.tokenize(s))\n",
        "   tokens.append('[SEP]')\n",
        "   return tokenizer.convert_tokens_to_ids(tokens)\n",
        "\n",
        "def bert_encode(glue_dict, tokenizer):\n",
        "  num_examples = len(glue_dict[\"sentence1\"])\n",
        "  \n",
        "  sentence1 = tf.ragged.constant([\n",
        "      encode_sentence(s, tokenizer)\n",
        "      for s in np.array(glue_dict[\"sentence1\"])])\n",
        "  sentence2 = tf.ragged.constant([\n",
        "      encode_sentence(s, tokenizer)\n",
        "       for s in np.array(glue_dict[\"sentence2\"])])\n",
        "\n",
        "  cls = [tokenizer.convert_tokens_to_ids(['[CLS]'])]*sentence1.shape[0]\n",
        "  input_word_ids = tf.concat([cls, sentence1, sentence2], axis=-1)\n",
        "\n",
        "  input_mask = tf.ones_like(input_word_ids).to_tensor()\n",
        "\n",
        "  type_cls = tf.zeros_like(cls)\n",
        "  type_s1 = tf.zeros_like(sentence1)\n",
        "  type_s2 = tf.ones_like(sentence2)\n",
        "  input_type_ids = tf.concat([type_cls, type_s1, type_s2], axis=-1).to_tensor()\n",
        "\n",
        "  return {\n",
        "      'input_word_ids': input_word_ids.to_tensor(),\n",
        "      'input_mask': input_mask,\n",
        "      'input_type_ids': input_type_ids\n",
        "  }"
      ],
      "metadata": {
        "id": "sDGiWYPLEd5a",
        "execution": {
          "iopub.status.busy": "2022-05-30T16:16:37.120043Z",
          "iopub.execute_input": "2022-05-30T16:16:37.120645Z",
          "iopub.status.idle": "2022-05-30T16:16:37.133959Z",
          "shell.execute_reply.started": "2022-05-30T16:16:37.120608Z",
          "shell.execute_reply": "2022-05-30T16:16:37.132713Z"
        },
        "trusted": true
      },
      "execution_count": null,
      "outputs": []
    },
    {
      "cell_type": "code",
      "source": [
        "glue_train = bert_encode(glue_dict[\"training\"], tokenizer)\n",
        "glue_validation = bert_encode(glue_dict[\"validation\"], tokenizer)"
      ],
      "metadata": {
        "execution": {
          "iopub.status.busy": "2022-05-30T16:16:40.404360Z",
          "iopub.execute_input": "2022-05-30T16:16:40.404782Z",
          "iopub.status.idle": "2022-05-30T16:16:40.486999Z",
          "shell.execute_reply.started": "2022-05-30T16:16:40.404746Z",
          "shell.execute_reply": "2022-05-30T16:16:40.485953Z"
        },
        "trusted": true,
        "id": "ZSymKIkKYm69"
      },
      "execution_count": null,
      "outputs": []
    },
    {
      "cell_type": "code",
      "source": [
        "import json\n",
        "bert_config_file = os.path.join(gs_folder_bert, \"bert_config.json\")\n",
        "config_dict = json.loads(tf.io.gfile.GFile(bert_config_file).read())\n",
        "bert_config = bert.configs.BertConfig.from_dict(config_dict)"
      ],
      "metadata": {
        "id": "ujapVfZ_AKW7",
        "execution": {
          "iopub.status.busy": "2022-05-30T16:16:49.664744Z",
          "iopub.execute_input": "2022-05-30T16:16:49.665186Z",
          "iopub.status.idle": "2022-05-30T16:16:49.849856Z",
          "shell.execute_reply.started": "2022-05-30T16:16:49.665152Z",
          "shell.execute_reply": "2022-05-30T16:16:49.848727Z"
        },
        "trusted": true
      },
      "execution_count": null,
      "outputs": []
    },
    {
      "cell_type": "code",
      "source": [
        "bert_classifier, bert_encoder = bert.bert_models.classifier_model(bert_config, num_labels=len(kept_words))"
      ],
      "metadata": {
        "id": "cH682__U0FBv",
        "execution": {
          "iopub.status.busy": "2022-05-30T16:16:53.253113Z",
          "iopub.execute_input": "2022-05-30T16:16:53.253548Z",
          "iopub.status.idle": "2022-05-30T16:16:58.723960Z",
          "shell.execute_reply.started": "2022-05-30T16:16:53.253515Z",
          "shell.execute_reply": "2022-05-30T16:16:58.722727Z"
        },
        "trusted": true
      },
      "execution_count": null,
      "outputs": []
    },
    {
      "cell_type": "code",
      "source": [
        "tf.keras.utils.plot_model(bert_classifier, show_shapes=True, dpi=48)"
      ],
      "metadata": {
        "id": "bAQblMIjwkvx",
        "execution": {
          "iopub.status.busy": "2022-05-30T16:07:25.073016Z",
          "iopub.execute_input": "2022-05-30T16:07:25.073661Z",
          "iopub.status.idle": "2022-05-30T16:07:25.555460Z",
          "shell.execute_reply.started": "2022-05-30T16:07:25.073625Z",
          "shell.execute_reply": "2022-05-30T16:07:25.554262Z"
        },
        "trusted": true,
        "colab": {
          "base_uri": "https://localhost:8080/",
          "height": 220
        },
        "outputId": "28e0c572-c06d-4830-e3e4-e7236136dab3"
      },
      "execution_count": null,
      "outputs": [
        {
          "output_type": "execute_result",
          "data": {
            "text/plain": [
              "<IPython.core.display.Image object>"
            ],
            "image/png": "[encoded data removed]"
          },
          "metadata": {},
          "execution_count": 37
        }
      ]
    },
    {
      "cell_type": "code",
      "source": [
        "checkpoint = tf.train.Checkpoint(encoder=bert_encoder)\n",
        "checkpoint.read(os.path.join(gs_folder_bert, 'bert_model.ckpt')).assert_consumed()"
      ],
      "metadata": {
        "id": "97Ll2Gichd_Y",
        "execution": {
          "iopub.status.busy": "2022-05-30T16:07:43.111273Z",
          "iopub.execute_input": "2022-05-30T16:07:43.111769Z",
          "iopub.status.idle": "2022-05-30T16:07:48.916595Z",
          "shell.execute_reply.started": "2022-05-30T16:07:43.111730Z",
          "shell.execute_reply": "2022-05-30T16:07:48.915515Z"
        },
        "trusted": true,
        "colab": {
          "base_uri": "https://localhost:8080/"
        },
        "outputId": "9aedb6f0-ae5d-4f51-ff90-a8b12febc63c"
      },
      "execution_count": null,
      "outputs": [
        {
          "output_type": "execute_result",
          "data": {
            "text/plain": [
              "<tensorflow.python.training.tracking.util.CheckpointLoadStatus at 0x7f622f870990>"
            ]
          },
          "metadata": {},
          "execution_count": 38
        }
      ]
    },
    {
      "cell_type": "code",
      "source": [
        "epochs = 3\n",
        "batch_size = 32\n",
        "eval_batch_size = 32\n",
        "\n",
        "train_data_size = len(glue_dict[\"training\"][\"label\"])\n",
        "steps_per_epoch = int(train_data_size / batch_size)\n",
        "num_train_steps = steps_per_epoch * epochs\n",
        "warmup_steps = int(epochs * train_data_size * 0.1 / batch_size)\n",
        "\n",
        "# creates an optimizer with learning rate schedule\n",
        "optimizer = nlp.optimization.create_optimizer(2e-5, num_train_steps=num_train_steps, num_warmup_steps=warmup_steps)"
      ],
      "metadata": {
        "id": "w8qXKRZuCwW4",
        "execution": {
          "iopub.status.busy": "2022-05-30T16:18:24.138115Z",
          "iopub.execute_input": "2022-05-30T16:18:24.139260Z",
          "iopub.status.idle": "2022-05-30T16:18:24.147342Z",
          "shell.execute_reply.started": "2022-05-30T16:18:24.139216Z",
          "shell.execute_reply": "2022-05-30T16:18:24.146355Z"
        },
        "trusted": true
      },
      "execution_count": null,
      "outputs": []
    },
    {
      "cell_type": "code",
      "source": [
        "metrics = [tf.keras.metrics.SparseCategoricalAccuracy('accuracy', dtype=tf.float32)]\n",
        "loss = tf.keras.losses.SparseCategoricalCrossentropy(from_logits=True)\n",
        "\n",
        "bert_classifier.compile(\n",
        "    optimizer=optimizer,\n",
        "    loss=loss,\n",
        "    metrics=metrics)\n",
        "\n",
        "bert_classifier.fit(\n",
        "      glue_train, glue_dict[\"training\"][\"label\"],\n",
        "      validation_data=(glue_validation, glue_dict[\"validation\"][\"label\"]),\n",
        "      batch_size=32,\n",
        "      epochs=epochs)"
      ],
      "metadata": {
        "id": "nzi8hjeTQTRs",
        "execution": {
          "iopub.status.busy": "2022-05-30T16:38:16.124336Z",
          "iopub.execute_input": "2022-05-30T16:38:16.125065Z",
          "iopub.status.idle": "2022-05-30T16:40:12.631713Z",
          "shell.execute_reply.started": "2022-05-30T16:38:16.124964Z",
          "shell.execute_reply": "2022-05-30T16:40:12.630539Z"
        },
        "trusted": true,
        "colab": {
          "base_uri": "https://localhost:8080/"
        },
        "outputId": "612e6102-1e58-43b5-8024-2f8f15f53a8f"
      },
      "execution_count": null,
      "outputs": [
        {
          "output_type": "stream",
          "name": "stdout",
          "text": [
            "Epoch 1/3\n",
            "16/16 [==============================] - 62s 3s/step - loss: 6.4483 - accuracy: 0.0020 - val_loss: 6.4307 - val_accuracy: 0.0000e+00\n",
            "Epoch 2/3\n",
            "16/16 [==============================] - 44s 3s/step - loss: 6.4048 - accuracy: 0.0000e+00 - val_loss: 6.4545 - val_accuracy: 0.0000e+00\n",
            "Epoch 3/3\n",
            "16/16 [==============================] - 45s 3s/step - loss: 6.3764 - accuracy: 0.0020 - val_loss: 6.4612 - val_accuracy: 0.0000e+00\n"
          ]
        },
        {
          "output_type": "execute_result",
          "data": {
            "text/plain": [
              "<keras.callbacks.History at 0x7f622f803e90>"
            ]
          },
          "metadata": {},
          "execution_count": 40
        }
      ]
    },
    {
      "cell_type": "code",
      "source": [
        "my_examples = bert_encode({'sentence1':['road'], 'sentence2':['slide']}, tokenizer=tokenizer)"
      ],
      "metadata": {
        "id": "9ZoUgDUNJPz3",
        "execution": {
          "iopub.status.busy": "2022-05-30T16:44:10.823268Z",
          "iopub.execute_input": "2022-05-30T16:44:10.824022Z",
          "iopub.status.idle": "2022-05-30T16:44:10.844340Z",
          "shell.execute_reply.started": "2022-05-30T16:44:10.823948Z",
          "shell.execute_reply": "2022-05-30T16:44:10.843302Z"
        },
        "trusted": true
      },
      "execution_count": null,
      "outputs": []
    },
    {
      "cell_type": "code",
      "source": [
        "result = bert_classifier(my_examples, training=False)\n",
        "result = tf.argmax(result, axis=1).numpy()[0]\n",
        "kept_words[result]"
      ],
      "metadata": {
        "id": "umo0ttrgRYIM",
        "execution": {
          "iopub.status.busy": "2022-05-30T16:44:12.785810Z",
          "iopub.execute_input": "2022-05-30T16:44:12.786305Z",
          "iopub.status.idle": "2022-05-30T16:44:12.979788Z",
          "shell.execute_reply.started": "2022-05-30T16:44:12.786266Z",
          "shell.execute_reply": "2022-05-30T16:44:12.978641Z"
        },
        "trusted": true,
        "colab": {
          "base_uri": "https://localhost:8080/"
        },
        "outputId": "840a30c9-c06c-46e9-8953-7a890b0bc4c2"
      },
      "execution_count": null,
      "outputs": [
        {
          "output_type": "execute_result",
          "data": {
            "text/plain": [
              "('rail', 'roads', 'railroads')"
            ]
          },
          "metadata": {},
          "execution_count": 65
        }
      ]
    },
    {
      "cell_type": "code",
      "source": [
        "#np.array(info.features['label'].names)[result]"
      ],
      "metadata": {
        "id": "utGl0M3aZCE4",
        "execution": {
          "iopub.status.busy": "2022-05-30T14:51:44.329496Z",
          "iopub.status.idle": "2022-05-30T14:51:44.330309Z",
          "shell.execute_reply.started": "2022-05-30T14:51:44.330065Z",
          "shell.execute_reply": "2022-05-30T14:51:44.330089Z"
        },
        "trusted": true
      },
      "execution_count": null,
      "outputs": []
    }
  ]
}