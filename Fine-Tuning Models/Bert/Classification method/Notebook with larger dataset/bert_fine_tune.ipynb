{
  "cells": [
    {
      "cell_type": "code",
      "execution_count": null,
      "metadata": {
        "colab": {
          "base_uri": "https://localhost:8080/"
        },
        "id": "KqFg-cR-22k1",
        "outputId": "da65c16b-dedc-42e2-aec1-4a1163f4c19b"
      },
      "outputs": [
        {
          "name": "stdout",
          "output_type": "stream",
          "text": [
            "Mounted at /content/drive\n"
          ]
        }
      ],
      "source": [
        "from google.colab import drive\n",
        "drive.mount('/content/drive')"
      ]
    },
    {
      "cell_type": "code",
      "execution_count": null,
      "metadata": {
        "colab": {
          "base_uri": "https://localhost:8080/"
        },
        "id": "yic2y7_o-BCC",
        "outputId": "3ef8f1ec-f1d9-420b-c10b-82cafe8f98b8"
      },
      "outputs": [
        {
          "name": "stdout",
          "output_type": "stream",
          "text": [
            "\u001b[K     |████████████████████████████████| 4.9 MB 5.5 MB/s \n",
            "\u001b[K     |████████████████████████████████| 462 kB 48.9 MB/s \n",
            "\u001b[?25h"
          ]
        }
      ],
      "source": [
        "!pip install -q -U \"tensorflow-text==2.8.*\""
      ]
    },
    {
      "cell_type": "code",
      "execution_count": null,
      "metadata": {
        "colab": {
          "base_uri": "https://localhost:8080/"
        },
        "id": "NvNr2svBM-p3",
        "outputId": "db40597d-43c1-49fe-ba33-9ad3f8aebbcd"
      },
      "outputs": [
        {
          "name": "stdout",
          "output_type": "stream",
          "text": [
            "\u001b[K     |████████████████████████████████| 1.1 MB 5.3 MB/s \n",
            "\u001b[K     |████████████████████████████████| 596 kB 24.5 MB/s \n",
            "\u001b[K     |████████████████████████████████| 99 kB 8.6 MB/s \n",
            "\u001b[K     |████████████████████████████████| 237 kB 45.8 MB/s \n",
            "\u001b[K     |████████████████████████████████| 47.8 MB 1.5 MB/s \n",
            "\u001b[K     |████████████████████████████████| 1.2 MB 33.9 MB/s \n",
            "\u001b[K     |████████████████████████████████| 352 kB 40.5 MB/s \n",
            "\u001b[K     |████████████████████████████████| 1.1 MB 38.8 MB/s \n",
            "\u001b[K     |████████████████████████████████| 43 kB 755 kB/s \n",
            "\u001b[?25h  Building wheel for py-cpuinfo (setup.py) ... \u001b[?25l\u001b[?25hdone\n",
            "  Building wheel for seqeval (setup.py) ... \u001b[?25l\u001b[?25hdone\n"
          ]
        }
      ],
      "source": [
        "!pip install -q tf-models-official==2.4.0"
      ]
    },
    {
      "cell_type": "code",
      "execution_count": null,
      "metadata": {
        "id": "lXsXev5MNr20"
      },
      "outputs": [],
      "source": [
        "import os\n",
        "\n",
        "import numpy as np\n",
        "import matplotlib.pyplot as plt\n",
        "\n",
        "import tensorflow as tf\n",
        "\n",
        "import tensorflow_hub as hub\n",
        "import tensorflow_datasets as tfds\n",
        "tfds.disable_progress_bar()\n",
        "\n",
        "from official.modeling import tf_utils\n",
        "from official import nlp\n",
        "from official.nlp import bert\n",
        "\n",
        "# Load the required submodules\n",
        "import official.nlp.optimization\n",
        "import official.nlp.bert.bert_models\n",
        "import official.nlp.bert.configs\n",
        "import official.nlp.bert.run_classifier\n",
        "import official.nlp.bert.tokenization\n",
        "import official.nlp.data.classifier_data_lib\n",
        "import official.nlp.modeling.losses\n",
        "import official.nlp.modeling.models\n",
        "import official.nlp.modeling.networks\n"
      ]
    },
    {
      "cell_type": "code",
      "execution_count": null,
      "metadata": {
        "colab": {
          "base_uri": "https://localhost:8080/"
        },
        "id": "vzRHOLciR8eq",
        "outputId": "ff364860-10d4-4dd5-a5f2-29b98ec138b5"
      },
      "outputs": [
        {
          "data": {
            "text/plain": [
              "['bert_config.json',\n",
              " 'bert_model.ckpt.data-00000-of-00001',\n",
              " 'bert_model.ckpt.index',\n",
              " 'vocab.txt']"
            ]
          },
          "execution_count": 5,
          "metadata": {},
          "output_type": "execute_result"
        }
      ],
      "source": [
        "gs_folder_bert = \"gs://cloud-tpu-checkpoints/bert/v3/uncased_L-12_H-768_A-12\"\n",
        "tf.io.gfile.listdir(gs_folder_bert)"
      ]
    },
    {
      "cell_type": "code",
      "execution_count": null,
      "metadata": {
        "id": "e0dAkUttJAzj"
      },
      "outputs": [],
      "source": [
        "hub_url_bert = \"https://tfhub.dev/tensorflow/bert_en_uncased_L-12_H-768_A-12/3\""
      ]
    },
    {
      "cell_type": "code",
      "execution_count": null,
      "metadata": {
        "colab": {
          "base_uri": "https://localhost:8080/"
        },
        "id": "idxyhmrCQcw5",
        "outputId": "fa202eb9-82dc-465e-a906-8b53690110e3"
      },
      "outputs": [
        {
          "name": "stdout",
          "output_type": "stream",
          "text": [
            "Vocab size: 30522\n"
          ]
        }
      ],
      "source": [
        "tokenizer = bert.tokenization.FullTokenizer(\n",
        "    vocab_file=os.path.join(gs_folder_bert, \"vocab.txt\"),\n",
        "     do_lower_case=True)\n",
        "\n",
        "print(\"Vocab size:\", len(tokenizer.vocab))"
      ]
    },
    {
      "cell_type": "code",
      "execution_count": null,
      "metadata": {
        "id": "DsOa1IOzYm67"
      },
      "outputs": [],
      "source": [
        "import pandas as pd\n",
        "ladec = pd.read_csv('/content/drive/MyDrive/all_embeddings_forML.csv')\n",
        "c1, c2, cmp = ladec['c1'].to_list(), ladec['c2'].to_list(), ladec['cmp'].to_list()"
      ]
    },
    {
      "cell_type": "code",
      "execution_count": null,
      "metadata": {
        "id": "mi2Qa6rFYm68"
      },
      "outputs": [],
      "source": [
        "kept_words = list(zip(c1, c2, cmp))"
      ]
    },
    {
      "cell_type": "code",
      "execution_count": null,
      "metadata": {
        "id": "ETSkvZfpYm68"
      },
      "outputs": [],
      "source": [
        "split = 5000\n",
        "\n",
        "glue_dict = {\n",
        "    \"training\": {\n",
        "        \"sentence1\": [w[0] for w in kept_words[:split]],\n",
        "        \"sentence2\": [w[1] for w in kept_words[:split]],\n",
        "        \"compounds\": [w[2] for w in kept_words[:split]],\n",
        "        \"label\":      tf.convert_to_tensor([i for i in range(split)])\n",
        "    },\n",
        "    \"validation\": {\n",
        "        \"sentence1\": [w[0] for w in kept_words[split:]],\n",
        "        \"sentence2\": [w[1] for w in kept_words[split:]],\n",
        "        \"compounds\": [w[2] for w in kept_words[split:]],\n",
        "        \"label\":      tf.convert_to_tensor([i for i in range(split, len(kept_words))])\n",
        "    }\n",
        "}"
      ]
    },
    {
      "cell_type": "code",
      "execution_count": null,
      "metadata": {
        "id": "sDGiWYPLEd5a"
      },
      "outputs": [],
      "source": [
        "def encode_sentence(s, tokenizer):\n",
        "   tokens = list(tokenizer.tokenize(s))\n",
        "   tokens.append('[SEP]')\n",
        "   return tokenizer.convert_tokens_to_ids(tokens)\n",
        "\n",
        "def bert_encode(glue_dict, tokenizer):\n",
        "  num_examples = len(glue_dict[\"sentence1\"])\n",
        "  \n",
        "  sentence1 = tf.ragged.constant([\n",
        "      encode_sentence(s, tokenizer)\n",
        "      for s in np.array(glue_dict[\"sentence1\"])])\n",
        "  sentence2 = tf.ragged.constant([\n",
        "      encode_sentence(s, tokenizer)\n",
        "       for s in np.array(glue_dict[\"sentence2\"])])\n",
        "\n",
        "  cls = [tokenizer.convert_tokens_to_ids(['[CLS]'])]*sentence1.shape[0]\n",
        "  input_word_ids = tf.concat([cls, sentence1, sentence2], axis=-1)\n",
        "\n",
        "  input_mask = tf.ones_like(input_word_ids).to_tensor()\n",
        "\n",
        "  type_cls = tf.zeros_like(cls)\n",
        "  type_s1 = tf.zeros_like(sentence1)\n",
        "  type_s2 = tf.ones_like(sentence2)\n",
        "  input_type_ids = tf.concat([type_cls, type_s1, type_s2], axis=-1).to_tensor()\n",
        "\n",
        "  return {\n",
        "      'input_word_ids': input_word_ids.to_tensor(),\n",
        "      'input_mask': input_mask,\n",
        "      'input_type_ids': input_type_ids\n",
        "  }"
      ]
    },
    {
      "cell_type": "code",
      "execution_count": null,
      "metadata": {
        "id": "ZSymKIkKYm69"
      },
      "outputs": [],
      "source": [
        "glue_train = bert_encode(glue_dict[\"training\"], tokenizer)\n",
        "glue_validation = bert_encode(glue_dict[\"validation\"], tokenizer)"
      ]
    },
    {
      "cell_type": "code",
      "execution_count": null,
      "metadata": {
        "id": "ujapVfZ_AKW7"
      },
      "outputs": [],
      "source": [
        "import json\n",
        "bert_config_file = os.path.join(gs_folder_bert, \"bert_config.json\")\n",
        "config_dict = json.loads(tf.io.gfile.GFile(bert_config_file).read())\n",
        "bert_config = bert.configs.BertConfig.from_dict(config_dict)"
      ]
    },
    {
      "cell_type": "code",
      "execution_count": null,
      "metadata": {
        "id": "cH682__U0FBv"
      },
      "outputs": [],
      "source": [
        "bert_classifier, bert_encoder = bert.bert_models.classifier_model(bert_config, num_labels=len(kept_words))"
      ]
    },
    {
      "cell_type": "code",
      "execution_count": null,
      "metadata": {
        "colab": {
          "base_uri": "https://localhost:8080/",
          "height": 240
        },
        "id": "bAQblMIjwkvx",
        "outputId": "b0a98f23-93cf-4c53-f161-25e5019802c3"
      },
      "outputs": [
        {
          "data": {
            "image/png": "[encoded data removed]",
            "text/plain": [
              "<IPython.core.display.Image object>"
            ]
          },
          "execution_count": 15,
          "metadata": {},
          "output_type": "execute_result"
        }
      ],
      "source": [
        "tf.keras.utils.plot_model(bert_classifier, show_shapes=True, dpi=48)"
      ]
    },
    {
      "cell_type": "code",
      "execution_count": null,
      "metadata": {
        "colab": {
          "base_uri": "https://localhost:8080/"
        },
        "id": "97Ll2Gichd_Y",
        "outputId": "9e66f184-531f-4578-f82e-be360a3531ec"
      },
      "outputs": [
        {
          "data": {
            "text/plain": [
              "<tensorflow.python.training.tracking.util.CheckpointLoadStatus at 0x7ff263656750>"
            ]
          },
          "execution_count": 16,
          "metadata": {},
          "output_type": "execute_result"
        }
      ],
      "source": [
        "checkpoint = tf.train.Checkpoint(encoder=bert_encoder)\n",
        "checkpoint.read(os.path.join(gs_folder_bert, 'bert_model.ckpt')).assert_consumed()"
      ]
    },
    {
      "cell_type": "code",
      "execution_count": null,
      "metadata": {
        "id": "w8qXKRZuCwW4"
      },
      "outputs": [],
      "source": [
        "epochs = 3\n",
        "batch_size = 32\n",
        "eval_batch_size = 32\n",
        "\n",
        "train_data_size = len(glue_dict[\"training\"][\"label\"])\n",
        "steps_per_epoch = int(train_data_size / batch_size)\n",
        "num_train_steps = steps_per_epoch * epochs\n",
        "warmup_steps = int(epochs * train_data_size * 0.1 / batch_size)\n",
        "\n",
        "# creates an optimizer with learning rate schedule\n",
        "optimizer = nlp.optimization.create_optimizer(2e-5, num_train_steps=num_train_steps, num_warmup_steps=warmup_steps)"
      ]
    },
    {
      "cell_type": "code",
      "execution_count": null,
      "metadata": {
        "colab": {
          "background_save": true,
          "base_uri": "https://localhost:8080/"
        },
        "id": "nzi8hjeTQTRs",
        "outputId": "81509e1c-b728-43b3-d1b7-385084b3febd"
      },
      "outputs": [
        {
          "name": "stdout",
          "output_type": "stream",
          "text": [
            "Epoch 1/3\n",
            "157/157 [==============================] - 690s 4s/step - loss: 8.7068 - accuracy: 2.0000e-04 - val_loss: 8.6944 - val_accuracy: 0.0000e+00\n",
            "Epoch 2/3\n",
            "157/157 [==============================] - 666s 4s/step - loss: 8.6907 - accuracy: 0.0000e+00 - val_loss: 8.7780 - val_accuracy: 0.0000e+00\n",
            "Epoch 3/3\n",
            "157/157 [==============================] - 664s 4s/step - loss: 8.6592 - accuracy: 4.0000e-04 - val_loss: 8.8399 - val_accuracy: 0.0000e+00\n"
          ]
        },
        {
          "data": {
            "text/plain": [
              "<keras.callbacks.History at 0x7ff263492410>"
            ]
          },
          "execution_count": null,
          "metadata": {},
          "output_type": "execute_result"
        }
      ],
      "source": [
        "metrics = [tf.keras.metrics.SparseCategoricalAccuracy('accuracy', dtype=tf.float32)]\n",
        "loss = tf.keras.losses.SparseCategoricalCrossentropy(from_logits=True)\n",
        "\n",
        "bert_classifier.compile(\n",
        "    optimizer=optimizer,\n",
        "    loss=loss,\n",
        "    metrics=metrics)\n",
        "\n",
        "bert_classifier.fit(\n",
        "      glue_train, glue_dict[\"training\"][\"label\"],\n",
        "      validation_data=(glue_validation, glue_dict[\"validation\"][\"label\"]),\n",
        "      batch_size=32,\n",
        "      epochs=epochs)"
      ]
    },
    {
      "cell_type": "code",
      "execution_count": 24,
      "metadata": {
        "id": "9ZoUgDUNJPz3"
      },
      "outputs": [],
      "source": [
        "my_examples = bert_encode({'sentence1':['rail'], 'sentence2':['road']}, tokenizer=tokenizer)"
      ]
    },
    {
      "cell_type": "code",
      "execution_count": 25,
      "metadata": {
        "id": "umo0ttrgRYIM",
        "colab": {
          "base_uri": "https://localhost:8080/"
        },
        "outputId": "bec4d33f-b69f-431f-cf87-e34121403e8b"
      },
      "outputs": [
        {
          "output_type": "execute_result",
          "data": {
            "text/plain": [
              "('seed', 'bed', 'seedbed')"
            ]
          },
          "metadata": {},
          "execution_count": 25
        }
      ],
      "source": [
        "result = bert_classifier(my_examples, training=False)\n",
        "result = tf.argmax(result, axis=1).numpy()[0]\n",
        "kept_words[result]"
      ]
    }
  ],
  "metadata": {
    "colab": {
      "name": "Copy of Copy_of_bert_fine_tune.ipynb",
      "provenance": []
    },
    "kernelspec": {
      "display_name": "Python 3",
      "language": "python",
      "name": "python3"
    },
    "language_info": {
      "codemirror_mode": {
        "name": "ipython",
        "version": 3
      },
      "file_extension": ".py",
      "mimetype": "text/x-python",
      "name": "python",
      "nbconvert_exporter": "python",
      "pygments_lexer": "ipython3",
      "version": "3.7.12"
    }
  },
  "nbformat": 4,
  "nbformat_minor": 0
}